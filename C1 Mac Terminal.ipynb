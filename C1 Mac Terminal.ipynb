{
 "cells": [
  {
   "cell_type": "markdown",
   "metadata": {},
   "source": [
    "# Mac Terminal "
   ]
  },
  {
   "cell_type": "markdown",
   "metadata": {},
   "source": [
    "**List Directory Contents**\n",
    "\n",
    "    $ ls\n",
    "    $ ls -l\n",
    "    $ ls -a\n",
    "    $ ls -la"
   ]
  },
  {
   "cell_type": "markdown",
   "metadata": {},
   "source": [
    "**Print Working Directory**\n",
    "\n",
    "    $ pwd"
   ]
  },
  {
   "cell_type": "markdown",
   "metadata": {},
   "source": [
    "**Clear Window**\n",
    "\n",
    "    $ clear"
   ]
  },
  {
   "cell_type": "markdown",
   "metadata": {},
   "source": [
    "**Change Directory**\n",
    "\n",
    "    $ cd /Users/jkwan/Desktop\n",
    "    $ cd \n",
    "    $ cd .. "
   ]
  },
  {
   "cell_type": "markdown",
   "metadata": {},
   "source": [
    "**Ditto (copy)**\n",
    "\n",
    "    $ ditto -V [source] [destination]"
   ]
  },
  {
   "cell_type": "markdown",
   "metadata": {},
   "source": [
    "**HTTP Server**\n",
    "\n",
    "    $ python -m SimpleHTTPServer 8000\n",
    "    [^C]"
   ]
  },
  {
   "cell_type": "markdown",
   "metadata": {},
   "source": [
    "**Repeat Command**\n",
    "\n",
    "    $ !!"
   ]
  },
  {
   "cell_type": "markdown",
   "metadata": {},
   "source": [
    "**File Download**\n",
    "\n",
    "    $ curl -0 [url]"
   ]
  },
  {
   "cell_type": "markdown",
   "metadata": {},
   "source": [
    "**Dictation**\n",
    "\n",
    "    $ say \"My name is ...\"\n",
    "    $ say -f [filepath]"
   ]
  },
  {
   "cell_type": "markdown",
   "metadata": {},
   "source": [
    "**Activity Monitor**\n",
    "\n",
    "    $ top\n",
    "    [^C]"
   ]
  },
  {
   "cell_type": "markdown",
   "metadata": {},
   "source": [
    "**Command History**\n",
    "\n",
    "    $ history"
   ]
  },
  {
   "cell_type": "markdown",
   "metadata": {},
   "source": [
    "**Login as User**\n",
    "\n",
    "    $ su -l [user]\n",
    "    $ logout"
   ]
  },
  {
   "cell_type": "markdown",
   "metadata": {},
   "source": [
    "**Remote Login**\n",
    "\n",
    "    $ ssh -l [user] [remote-address]"
   ]
  },
  {
   "cell_type": "markdown",
   "metadata": {},
   "source": [
    "**Reverse Search**\n",
    "\n",
    "    $ [^R]\n",
    "    $ [^R]"
   ]
  },
  {
   "cell_type": "markdown",
   "metadata": {},
   "source": [
    "**Screen Capture**\n",
    "\n",
    "    $ screencapture [filename]\n",
    "    $ screencapture -P [filename]\n",
    "    $ screencapture -c\n",
    "    $ screencapture --help"
   ]
  },
  {
   "cell_type": "markdown",
   "metadata": {},
   "source": [
    "**Copy/Paste from Terminal**\n",
    "\n",
    "    $ ls | pbcopy\n",
    "    $ pbcopy < [filepath]\n",
    "    $ pbpaste >> [filepath]"
   ]
  },
  {
   "cell_type": "markdown",
   "metadata": {},
   "source": [
    "**Make Alias**\n",
    "\n",
    "    $ alias goto_path=\"cd ~/Desktop\""
   ]
  },
  {
   "cell_type": "markdown",
   "metadata": {},
   "source": [
    "**Bash Profile**"
   ]
  }
 ],
 "metadata": {
  "kernelspec": {
   "display_name": "Julia 0.3.11",
   "language": "julia",
   "name": "julia-0.3"
  },
  "language_info": {
   "file_extension": ".jl",
   "mimetype": "application/julia",
   "name": "julia",
   "version": "0.3.11"
  }
 },
 "nbformat": 4,
 "nbformat_minor": 0
}
