{
 "cells": [
  {
   "cell_type": "markdown",
   "metadata": {},
   "source": [
    "# Code Basics - Git"
   ]
  },
  {
   "cell_type": "markdown",
   "metadata": {},
   "source": [
    "* [Commands](#Commands)\n",
    "* [Directories/Files](#Directories/Files)\n",
    "* [Network](#Network)\n",
    "* [Others](#Others)"
   ]
  },
  {
   "cell_type": "markdown",
   "metadata": {},
   "source": [
    "<hr style=\"border-width: 2px; border-color: black;\">\n",
    "### Commands"
   ]
  },
  {
   "cell_type": "markdown",
   "metadata": {},
   "source": [
    "| Commands           | Description                            |\n",
    "|--------------------|----------------------------------------|\n",
    "| `clear`            | *Clear window*                         |\n",
    "| `!!`               | *Repeat previous command*              |\n",
    "| `history`          | *Show command history*                 |\n",
    "| `[CTRL R]`         | *Reverse search*                       |\n",
    "| `ssh -l`           | *Remote via SSH*                       |\n",
    "| `alias`            | *Make alias*                           |\n",
    "| `su`               | *Switch user to super-user*            |\n",
    "| `sudo`             | *Run command as super-user*            |\n",
    "| `ssh -l`           | *Remote via SSH*                       |\n",
    "| `logout`           | *Logout*                               |\n",
    "\n",
    "**Examples**\n",
    "\n",
    "```Bash\n",
    "$ clear\n",
    "\n",
    "$ !!\n",
    "\n",
    "$ history\n",
    "\n",
    "$ [CTRL R]\n",
    "\n",
    "$ alias [alias_name]=\"[commands]\"\n",
    "\n",
    "$ su\n",
    "\n",
    "$ sudo\n",
    "\n",
    "$ ssh\n",
    "\n",
    "$ logout\n",
    "```"
   ]
  },
  {
   "cell_type": "markdown",
   "metadata": {},
   "source": [
    "<hr style=\"border-width: 2px; border-color: black;\">\n",
    "### Directories/Files"
   ]
  },
  {
   "cell_type": "markdown",
   "metadata": {},
   "source": [
    "| Commands           | Description                            |\n",
    "|--------------------|----------------------------------------|\n",
    "| `pwd`              | *Print working directory*              |\n",
    "| `cd`               | *Change directory*                     |\n",
    "| `ls`               | *List directory contents*              |\n",
    "| `touch`            | *Create file*                          |\n",
    "| `cat`              | *View text file*                       |\n",
    "| `less`             | *Alternative file viewer*              |\n",
    "| `ditto`            | *Advanced Copy directories*            |\n",
    "| `mkdir`            | *Make new directory*                   |\n",
    "| `mkfile`           | *Make new file*                        |\n",
    "| `mv`               | *Move or rename files*                 |\n",
    "| `cp`               | *Copy files*                           |\n",
    "| `rm`               | *Remove files/directory*               |\n",
    "| `find`             | *Find files*                           |\n",
    "| `fs_usage`         | *View file system usage*               |\n",
    "\n",
    "**Examples**\n",
    "\n",
    "```Bash\n",
    "$ pwd\n",
    "\n",
    "$ cd /Users/jkwan/Desktop/\n",
    "   \n",
    "    $ cd ..  ## Change to parent folder\n",
    "\n",
    "    $ cd  ## Go to home folder\n",
    "\n",
    "$ ls\n",
    "\n",
    "    $ ls -l  ## Format as list\n",
    "    \n",
    "    $ ls -a  ## Show all, including hidden files\n",
    "    \n",
    "    $ ls -la ## Combined\n",
    "\n",
    "$ touch [file path]\n",
    "\n",
    "$ cat [file path]\n",
    "\n",
    "$ less [file path]\n",
    "\n",
    "$ ditto [source] [destination]\n",
    "\n",
    "    $ ditto -V [source] [destination]  ## Show all files and links\n",
    "\n",
    "$ mkdir\n",
    "\n",
    "$ mkfile [file path]\n",
    "\n",
    "    $ mkfile 1g [file path]  ## Make file with 1GB size\n",
    "\n",
    "$ mv\n",
    "\n",
    "$ cp [source] [destination]\n",
    "\n",
    "$ rm\n",
    "\n",
    "$ find ./ -iname \"[file name]\"\n",
    "\n",
    "$ sudo fs_usage\n",
    "```"
   ]
  }
 ],
 "metadata": {
  "kernelspec": {
   "display_name": "Python 2",
   "language": "python",
   "name": "python2"
  },
  "language_info": {
   "codemirror_mode": {
    "name": "ipython",
    "version": 2
   },
   "file_extension": ".py",
   "mimetype": "text/x-python",
   "name": "python",
   "nbconvert_exporter": "python",
   "pygments_lexer": "ipython2",
   "version": "2.7.11"
  }
 },
 "nbformat": 4,
 "nbformat_minor": 0
}
