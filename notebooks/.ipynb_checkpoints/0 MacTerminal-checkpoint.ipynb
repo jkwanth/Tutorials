{
 "cells": [
  {
   "cell_type": "markdown",
   "metadata": {},
   "source": [
    "# Code Basics - Mac Terminal"
   ]
  },
  {
   "cell_type": "markdown",
   "metadata": {},
   "source": [
    "* [Commands](#Commands)\n",
    "* [Directories/Files](#Directories/Files)\n",
    "* [Network](#Network)\n",
    "* [Others](#Others)"
   ]
  },
  {
   "cell_type": "markdown",
   "metadata": {},
   "source": [
    "### Commands"
   ]
  },
  {
   "cell_type": "markdown",
   "metadata": {},
   "source": [
    "| Command       | Meaning                           |\n",
    "|---------------|-----------------------------------|\n",
    "| `clear`       | *Clear window*                    |\n",
    "| `!!`          | *Repeat previous command*         |\n",
    "| `history`     | *Show command history*            |\n",
    "| `[⌃R]`        | *Reverse search*                  |\n",
    "| `su -l`       | *Print working directory*         |\n",
    "| `sudo`        | *Print working directory*         |\n",
    "| `ssh -l`      | *Print working directory*         |\n",
    "| `logout`      | *Logout*                          |"
   ]
  },
  {
   "cell_type": "markdown",
   "metadata": {},
   "source": [
    "### Directories/Files"
   ]
  },
  {
   "cell_type": "markdown",
   "metadata": {},
   "source": [
    "| Command       | Meaning                           |\n",
    "|---------------|-----------------------------------|\n",
    "| `pwd`         | *Print working directory*         |\n",
    "| `cd`          | *Change directory*                |\n",
    "| `mkdir`       | *Make new directory*              |\n",
    "| `mv`          | *Move or rename files*            |\n",
    "| `rm`          | *Print working directory*         |\n",
    "| `ls`          | *List directory contents*         |\n",
    "| `ditto`       | *Advanced Copy directories*       |\n",
    "\n",
    "**Examples**\n",
    "\n",
    "```Bash\n",
    "$ pwd\n",
    "\n",
    "$ cd /Users/jkwan/Desktop/\n",
    "   \n",
    "    $ cd ..  ## Change to parent folder\n",
    "\n",
    "    $ cd  ## Go to home folder\n",
    "    \n",
    "$ ls \n",
    "\n",
    "    $ ls -l  ## Format as list\n",
    "    \n",
    "    $ ls -a  ## Show all, including hidden files\n",
    "    \n",
    "    $ ls -la ## Combined\n",
    "\n",
    "$ ditto [source] [destination]\n",
    "\n",
    "    $ ditto -V [source] [destination]  ## Show all files and links\n",
    "\n",
    "```"
   ]
  },
  {
   "cell_type": "markdown",
   "metadata": {},
   "source": [
    "### Network"
   ]
  },
  {
   "cell_type": "markdown",
   "metadata": {},
   "source": [
    "| Command       | Meaning                           |\n",
    "|---------------|-----------------------------------|\n",
    "| `pwd`         | Print working directory           |\n",
    "| `cd`          | Print working directory           |\n",
    "| `mkdir`       | Print working directory           |\n",
    "| `mv`          | Print working directory           |\n",
    "| `rm`          | Print working directory           |\n",
    "| `ls`          | Print working directory           |"
   ]
  },
  {
   "cell_type": "markdown",
   "metadata": {},
   "source": [
    "### Others"
   ]
  },
  {
   "cell_type": "markdown",
   "metadata": {},
   "source": [
    "| Command       | Meaning                           |\n",
    "|---------------|-----------------------------------|\n",
    "| `pwd`         | Print working directory           |\n",
    "| `cd`          | Print working directory           |\n",
    "| `mkdir`       | Print working directory           |\n",
    "| `mv`          | Print working directory           |\n",
    "| `rm`          | Print working directory           |\n",
    "| `ls`          | Print working directory           |"
   ]
  }
 ],
 "metadata": {
  "kernelspec": {
   "display_name": "Python 2",
   "language": "python",
   "name": "python2"
  },
  "language_info": {
   "codemirror_mode": {
    "name": "ipython",
    "version": 2
   },
   "file_extension": ".py",
   "mimetype": "text/x-python",
   "name": "python",
   "nbconvert_exporter": "python",
   "pygments_lexer": "ipython2",
   "version": "2.7.11"
  }
 },
 "nbformat": 4,
 "nbformat_minor": 0
}
